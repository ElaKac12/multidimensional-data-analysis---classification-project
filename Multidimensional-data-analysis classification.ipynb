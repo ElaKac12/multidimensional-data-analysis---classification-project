{
 "cells": [
  {
   "cell_type": "markdown",
   "metadata": {},
   "source": [
    "# Prognozowanie Jadalności Grzybów za Pomocą Skutecznych Technik Klasyfikacji\n"
   ]
  },
  {
   "cell_type": "markdown",
   "metadata": {},
   "source": [
    "Autorzy: Wiktoria Stępień, Zofia Górska, Elżbieta Kacprzak, Angelika Kornaga, Julia Nowosad"
   ]
  },
  {
   "cell_type": "markdown",
   "metadata": {},
   "source": [
    "## Wstęp i streszczenie"
   ]
  },
  {
   "cell_type": "markdown",
   "metadata": {},
   "source": [
    "Badanie koncentruje się na klasyfikacji grzybów za pomocą różnych algorytmów uczenia maszynowego, w tym k-najbliższych sąsiadów (KNN), metod jądra, drzewa decyzyjnego, lasu losowego, XGBoosta, regresji logistycznej i naiwnego klasyfikatora bayesowskiego. Badania mają na celu zaspokojenie rosnącego zapotrzebowania na technologię w sektorze rolnym. Wykorzystując technologie takie jak Internet Rzeczy (IoT) i uczenie maszynowe (ML), projekt ma na celu wniesienie wkładu w rolnictwo poprzez identyfikację rodzajów upraw, wykrywanie chorób roślin oraz monitorowanie plonów, a także szacowanie optymalnej lokalizacji sadzenia, gdzie plon byłby najwyższy. Badanie obejmuje różne metody klasyfikacji oraz zmienne opisane wcześniej."
   ]
  },
  {
   "cell_type": "markdown",
   "metadata": {},
   "source": [
    "### Słowa kluczowe"
   ]
  },
  {
   "cell_type": "markdown",
   "metadata": {},
   "source": [
    "XD"
   ]
  },
  {
   "cell_type": "markdown",
   "metadata": {},
   "source": [
    "## Wprowadzeni"
   ]
  },
  {
   "cell_type": "markdown",
   "metadata": {},
   "source": [
    "Wprowadzajac do naszego projektu nie "
   ]
  },
  {
   "cell_type": "markdown",
   "metadata": {},
   "source": [
    "## Przedmiot badania:"
   ]
  },
  {
   "cell_type": "markdown",
   "metadata": {},
   "source": [
    "grzyby"
   ]
  },
  {
   "cell_type": "markdown",
   "metadata": {},
   "source": [
    "## Cel"
   ]
  },
  {
   "cell_type": "markdown",
   "metadata": {},
   "source": [
    "Celem "
   ]
  },
  {
   "cell_type": "markdown",
   "metadata": {},
   "source": [
    "## Wstępna Analiza Danych:"
   ]
  },
  {
   "cell_type": "markdown",
   "metadata": {},
   "source": [
    "### Przedstawienie dostępnych zmiennych"
   ]
  },
  {
   "cell_type": "markdown",
   "metadata": {},
   "source": [
    "| Zmienna                           | Opis                                                                                                                                   |\n",
    "|-----------------------------------|----------------------------------------------------------------------------------------------------------------------------------------|\n",
    "| Klasa (class)                     | Jadalny (edible) = e, Trujący (poisonous) = p                                                                                        |\n",
    "| Kształt kapelusza (cap-shape)     | Dzwonek (bell) = b, Stożkowaty (conical) = c, Wypukły (convex) = x, Płaski (flat) = f, Guzkowaty (knobbed) = k, Zapadły (sunken) = s     |\n",
    "| Powierzchnia kapelusza (cap-surface) | Włóknista (fibrous) = f, Rowki (grooves) = g, Łuskowata (scaly) = y, Gładka (smooth) = s                                                |\n",
    "| Kolor kapelusza (cap-color)       | Brązowy (brown) = n, Beżowy (buff) = b, Cynamonowy (cinnamon) = c, Szary (gray) = g, Zielony (green) = r, Różowy (pink) = p, Fioletowy (purple) = u, Czerwony (red) = e, Biały (white) = w, Żółty (yellow) = y |\n",
    "| Siniaki (bruises)                 | Siniaki (bruises) = t, Brak siniaków (no) = f                                                                                        |\n",
    "| Zapach (odor)                     | Migdałowy (almond) = a, Anyżowy (anise) = l, Drewniany (creosote) = c, Rybny (fishy) = y, Cuchnący (foul) = f, Ziemisty (musty) = m, Brak zapachu (none) = n, Pikantny (pungent) = p, Korzenny (spicy) = s     |\n",
    "| Przywiązanie blaszek (gill-attachment) | Przywiązane (attached) = a, Schodzące (descending) = d, Wolne (free) = f, Wycięte (notched) = n                                           |\n",
    "| Rozstaw blaszek (gill-spacing)    | Blisko (close) = c, Gęsto (crowded) = w, Daleko (distant) = d                                                                         |\n",
    "| Rozmiar blaszek (gill-size)       | Szeroko (broad) = b, Wąsko (narrow) = n                                                                                              |\n",
    "| Kolor blaszek (gill-color)        | Czarny (black) = k, Brązowy (brown) = n, Beżowy (buff) = b, Czekoladowy (chocolate) = h, Szary (gray) = g, Zielony (green) = r, Pomarańczowy (orange) = o, Różowy (pink) = p, Fioletowy (purple) = u, Czerwony (red) = e, Biały (white) = w, Żółty (yellow) = y |\n",
    "| Kształt trzonu (stalk-shape)      | Powiększający się (enlarging) = e, Zwężający się (tapering) = t                                                                        |\n",
    "| Korzeń trzonu (stalk-root)        | Bulwiasty (bulbous) = b, Knieja (club) = c, Kubek (cup) = u, Równy (equal) = e, Ryzomorfy (rhizomorphs) = z, Korzeniowy (rooted) = r, Brak (missing) = ?                                                  |\n",
    "| Powierzchnia trzonu powyżej pierścienia (stalk-surface-above-ring) | Włóknista (fibrous) = f, Łuskowata (scaly) = y, Jedwabista (silky) = k, Gładka (smooth) = s                                              |\n",
    "| Powierzchnia trzonu poniżej pierścienia (stalk-surface-below-ring) | Włóknista (fibrous) = f, Łuskowata (scaly) = y, Jedwabista (silky) = k, Gładka (smooth) = s                                              |\n",
    "| Kolor trzonu powyżej pierścienia (stalk-color-above-ring) | Brązowy (brown) = n, Beżowy (buff) = b, Cynamonowy (cinnamon) = c, Szary (gray) = g, Pomarańczowy (orange) = o, Różowy (pink) = p, Czerwony (red) = e, Biały (white) = w, Żółty (yellow) = y    |\n",
    "| Kolor trzonu poniżej pierścienia (stalk-color-below-ring) | Brązowy (brown) = n, Beżowy (buff) = b, Cynamonowy (cinnamon) = c, Szary (gray) = g, Pomarańczowy (orange) = o, Różowy (pink) = p, Czerwony (red) = e, Biały (white) = w, Żółty (yellow) = y    |\n",
    "| Typ welum (veil-type)             | Częściowy (partial) = p, Uniwersalny (universal) = u                                                                               |\n",
    "| Kolor welum (veil-color)          | Brązowy (brown) = n, Pomarańczowy (orange) = o, Biały (white) = w, Żółty (yellow) = y                                                  |\n",
    "| Liczba pierścieni (ring-number)   | Brak (none) = n, Jeden (one) = o, Dwa (two) = t                                                                                    |\n",
    "| Typ pierścienia (ring-type)       | Sieciowy (cobwebby) = c, Ewanescentny (evanescent) = e, Rozchodzący się (flaring) = f, Duży (large) = l, Brak (none) = n, Zwisający (pendant) = p, Okrywający (sheathing) = s, Strefowy (zone) = z |\n",
    "| Kolor zarodników (spore-print-color) | Czarny (black) = k, Brązowy (brown) = n, Beżowy (buff) = b, Czekoladowy (chocolate) = h, Zielony (green) = r, Pomarańczowy (orange) = o, Fioletowy (purple) = u, Biały (white) = w, Żółty (yellow) =y |\n",
    "| Populacja (population)          | obfity (abundant) =a, skupiony (clustered) =c, liczny (numerous) =n, rozproszony (scattered) =s, kilka (several) =v, samotny (solitary) =y |\n",
    "| Środowisko (habitat)             | trawy (grasses) =g, liście (leaves) =l, łąki (meadows) =m, ścieżki (paths) =p, miejski (urban) =u, odpady (waste) =w, lasy (woods) =d |\n"
   ]
  },
  {
   "cell_type": "markdown",
   "metadata": {},
   "source": [
    "Wstępna analiza danych\n",
    "\n",
    "§ Przedstawienie dostępnych zmiennych\n",
    "\n",
    "§ statystyki opisowe (przynajmniej: średnia, mediana, minimum, maksimum, odchylenie standardowe, skośność)\n",
    "\n",
    "§ podstawowa wizualizacja – np. boxplot, histogramy\n",
    "\n",
    "§ transformacje danych (skalowanie, logarytmowanie)\n",
    "\n",
    "§ braki danych – czy występują i jak je obsłużono\n",
    "\n",
    "§ obserwacje odstające i w jaki sposób je obsłużono"
   ]
  },
  {
   "cell_type": "markdown",
   "metadata": {},
   "source": [
    "Imports:"
   ]
  },
  {
   "cell_type": "code",
   "execution_count": 3,
   "metadata": {},
   "outputs": [
    {
     "ename": "ModuleNotFoundError",
     "evalue": "No module named 'tensorflow'",
     "output_type": "error",
     "traceback": [
      "\u001b[1;31m---------------------------------------------------------------------------\u001b[0m",
      "\u001b[1;31mModuleNotFoundError\u001b[0m                       Traceback (most recent call last)",
      "Cell \u001b[1;32mIn[3], line 15\u001b[0m\n\u001b[0;32m     13\u001b[0m \u001b[38;5;28;01mfrom\u001b[39;00m \u001b[38;5;21;01msklearn\u001b[39;00m\u001b[38;5;21;01m.\u001b[39;00m\u001b[38;5;21;01mensemble\u001b[39;00m \u001b[38;5;28;01mimport\u001b[39;00m RandomForestClassifier\n\u001b[0;32m     14\u001b[0m \u001b[38;5;28;01mfrom\u001b[39;00m \u001b[38;5;21;01mxgboost\u001b[39;00m \u001b[38;5;28;01mimport\u001b[39;00m XGBClassifier\n\u001b[1;32m---> 15\u001b[0m \u001b[38;5;28;01mimport\u001b[39;00m \u001b[38;5;21;01mtensorflow\u001b[39;00m \u001b[38;5;28;01mas\u001b[39;00m \u001b[38;5;21;01mtf\u001b[39;00m\n\u001b[0;32m     16\u001b[0m pd\u001b[38;5;241m.\u001b[39mset_option(\u001b[38;5;124m'\u001b[39m\u001b[38;5;124mdisplay.max_columns\u001b[39m\u001b[38;5;124m'\u001b[39m, \u001b[38;5;28;01mNone\u001b[39;00m)\n",
      "\u001b[1;31mModuleNotFoundError\u001b[0m: No module named 'tensorflow'"
     ]
    }
   ],
   "source": [
    "import pandas as pd \n",
    "import numpy as np\n",
    "import matplotlib.pyplot as plt\n",
    "import seaborn as sns\n",
    "import plotly.express as px\n",
    "from sklearn.model_selection import train_test_split\n",
    "from sklearn.linear_model import LogisticRegression\n",
    "from sklearn.neighbors import KNeighborsClassifier\n",
    "from sklearn.metrics import confusion_matrix,accuracy_score\n",
    "from sklearn.svm import SVC\n",
    "from sklearn.naive_bayes import GaussianNB\n",
    "from sklearn.tree import DecisionTreeClassifier\n",
    "from sklearn.ensemble import RandomForestClassifier\n",
    "from xgboost import XGBClassifier\n",
    "#import tensorflow as tf\n",
    "pd.set_option('display.max_columns', None)"
   ]
  },
  {
   "cell_type": "markdown",
   "metadata": {},
   "source": [
    "exploring the data:"
   ]
  },
  {
   "cell_type": "code",
   "execution_count": 4,
   "metadata": {},
   "outputs": [],
   "source": [
    "df = pd.read_csv(\"mushrooms.csv\")"
   ]
  },
  {
   "cell_type": "code",
   "execution_count": 2,
   "metadata": {},
   "outputs": [
    {
     "ename": "NameError",
     "evalue": "name 'df' is not defined",
     "output_type": "error",
     "traceback": [
      "\u001b[1;31m---------------------------------------------------------------------------\u001b[0m",
      "\u001b[1;31mNameError\u001b[0m                                 Traceback (most recent call last)",
      "Cell \u001b[1;32mIn[2], line 1\u001b[0m\n\u001b[1;32m----> 1\u001b[0m \u001b[43mdf\u001b[49m\u001b[38;5;241m.\u001b[39mhead()\n",
      "\u001b[1;31mNameError\u001b[0m: name 'df' is not defined"
     ]
    }
   ],
   "source": [
    "df.head()\n",
    "\n"
   ]
  },
  {
   "cell_type": "code",
   "execution_count": 1,
   "metadata": {},
   "outputs": [
    {
     "ename": "NameError",
     "evalue": "name 'df' is not defined",
     "output_type": "error",
     "traceback": [
      "\u001b[1;31m---------------------------------------------------------------------------\u001b[0m",
      "\u001b[1;31mNameError\u001b[0m                                 Traceback (most recent call last)",
      "Cell \u001b[1;32mIn[1], line 1\u001b[0m\n\u001b[1;32m----> 1\u001b[0m \u001b[43mdf\u001b[49m\u001b[38;5;241m.\u001b[39minfo()\n",
      "\u001b[1;31mNameError\u001b[0m: name 'df' is not defined"
     ]
    }
   ],
   "source": [
    "df.info()"
   ]
  },
  {
   "cell_type": "code",
   "execution_count": 10,
   "metadata": {},
   "outputs": [
    {
     "name": "stdout",
     "output_type": "stream",
     "text": [
      "Dataset shape: (8124, 23)\n"
     ]
    }
   ],
   "source": [
    "print(\"Dataset shape:\", df.shape)"
   ]
  },
  {
   "cell_type": "code",
   "execution_count": 9,
   "metadata": {},
   "outputs": [
    {
     "data": {
      "text/html": [
       "<div>\n",
       "<style scoped>\n",
       "    .dataframe tbody tr th:only-of-type {\n",
       "        vertical-align: middle;\n",
       "    }\n",
       "\n",
       "    .dataframe tbody tr th {\n",
       "        vertical-align: top;\n",
       "    }\n",
       "\n",
       "    .dataframe thead th {\n",
       "        text-align: right;\n",
       "    }\n",
       "</style>\n",
       "<table border=\"1\" class=\"dataframe\">\n",
       "  <thead>\n",
       "    <tr style=\"text-align: right;\">\n",
       "      <th></th>\n",
       "      <th>class</th>\n",
       "      <th>cap-shape</th>\n",
       "      <th>cap-surface</th>\n",
       "      <th>cap-color</th>\n",
       "      <th>bruises</th>\n",
       "      <th>odor</th>\n",
       "      <th>gill-attachment</th>\n",
       "      <th>gill-spacing</th>\n",
       "      <th>gill-size</th>\n",
       "      <th>gill-color</th>\n",
       "      <th>...</th>\n",
       "      <th>stalk-surface-below-ring</th>\n",
       "      <th>stalk-color-above-ring</th>\n",
       "      <th>stalk-color-below-ring</th>\n",
       "      <th>veil-type</th>\n",
       "      <th>veil-color</th>\n",
       "      <th>ring-number</th>\n",
       "      <th>ring-type</th>\n",
       "      <th>spore-print-color</th>\n",
       "      <th>population</th>\n",
       "      <th>habitat</th>\n",
       "    </tr>\n",
       "  </thead>\n",
       "  <tbody>\n",
       "    <tr>\n",
       "      <th>count</th>\n",
       "      <td>8124</td>\n",
       "      <td>8124</td>\n",
       "      <td>8124</td>\n",
       "      <td>8124</td>\n",
       "      <td>8124</td>\n",
       "      <td>8124</td>\n",
       "      <td>8124</td>\n",
       "      <td>8124</td>\n",
       "      <td>8124</td>\n",
       "      <td>8124</td>\n",
       "      <td>...</td>\n",
       "      <td>8124</td>\n",
       "      <td>8124</td>\n",
       "      <td>8124</td>\n",
       "      <td>8124</td>\n",
       "      <td>8124</td>\n",
       "      <td>8124</td>\n",
       "      <td>8124</td>\n",
       "      <td>8124</td>\n",
       "      <td>8124</td>\n",
       "      <td>8124</td>\n",
       "    </tr>\n",
       "    <tr>\n",
       "      <th>unique</th>\n",
       "      <td>2</td>\n",
       "      <td>6</td>\n",
       "      <td>4</td>\n",
       "      <td>10</td>\n",
       "      <td>2</td>\n",
       "      <td>9</td>\n",
       "      <td>2</td>\n",
       "      <td>2</td>\n",
       "      <td>2</td>\n",
       "      <td>12</td>\n",
       "      <td>...</td>\n",
       "      <td>4</td>\n",
       "      <td>9</td>\n",
       "      <td>9</td>\n",
       "      <td>1</td>\n",
       "      <td>4</td>\n",
       "      <td>3</td>\n",
       "      <td>5</td>\n",
       "      <td>9</td>\n",
       "      <td>6</td>\n",
       "      <td>7</td>\n",
       "    </tr>\n",
       "    <tr>\n",
       "      <th>top</th>\n",
       "      <td>e</td>\n",
       "      <td>x</td>\n",
       "      <td>y</td>\n",
       "      <td>n</td>\n",
       "      <td>f</td>\n",
       "      <td>n</td>\n",
       "      <td>f</td>\n",
       "      <td>c</td>\n",
       "      <td>b</td>\n",
       "      <td>b</td>\n",
       "      <td>...</td>\n",
       "      <td>s</td>\n",
       "      <td>w</td>\n",
       "      <td>w</td>\n",
       "      <td>p</td>\n",
       "      <td>w</td>\n",
       "      <td>o</td>\n",
       "      <td>p</td>\n",
       "      <td>w</td>\n",
       "      <td>v</td>\n",
       "      <td>d</td>\n",
       "    </tr>\n",
       "    <tr>\n",
       "      <th>freq</th>\n",
       "      <td>4208</td>\n",
       "      <td>3656</td>\n",
       "      <td>3244</td>\n",
       "      <td>2284</td>\n",
       "      <td>4748</td>\n",
       "      <td>3528</td>\n",
       "      <td>7914</td>\n",
       "      <td>6812</td>\n",
       "      <td>5612</td>\n",
       "      <td>1728</td>\n",
       "      <td>...</td>\n",
       "      <td>4936</td>\n",
       "      <td>4464</td>\n",
       "      <td>4384</td>\n",
       "      <td>8124</td>\n",
       "      <td>7924</td>\n",
       "      <td>7488</td>\n",
       "      <td>3968</td>\n",
       "      <td>2388</td>\n",
       "      <td>4040</td>\n",
       "      <td>3148</td>\n",
       "    </tr>\n",
       "  </tbody>\n",
       "</table>\n",
       "<p>4 rows × 23 columns</p>\n",
       "</div>"
      ],
      "text/plain": [
       "       class cap-shape cap-surface cap-color bruises  odor gill-attachment  \\\n",
       "count   8124      8124        8124      8124    8124  8124            8124   \n",
       "unique     2         6           4        10       2     9               2   \n",
       "top        e         x           y         n       f     n               f   \n",
       "freq    4208      3656        3244      2284    4748  3528            7914   \n",
       "\n",
       "       gill-spacing gill-size gill-color  ... stalk-surface-below-ring  \\\n",
       "count          8124      8124       8124  ...                     8124   \n",
       "unique            2         2         12  ...                        4   \n",
       "top               c         b          b  ...                        s   \n",
       "freq           6812      5612       1728  ...                     4936   \n",
       "\n",
       "       stalk-color-above-ring stalk-color-below-ring veil-type veil-color  \\\n",
       "count                    8124                   8124      8124       8124   \n",
       "unique                      9                      9         1          4   \n",
       "top                         w                      w         p          w   \n",
       "freq                     4464                   4384      8124       7924   \n",
       "\n",
       "       ring-number ring-type spore-print-color population habitat  \n",
       "count         8124      8124              8124       8124    8124  \n",
       "unique           3         5                 9          6       7  \n",
       "top              o         p                 w          v       d  \n",
       "freq          7488      3968              2388       4040    3148  \n",
       "\n",
       "[4 rows x 23 columns]"
      ]
     },
     "execution_count": 9,
     "metadata": {},
     "output_type": "execute_result"
    }
   ],
   "source": [
    "df.describe()"
   ]
  }
 ],
 "metadata": {
  "kernelspec": {
   "display_name": "Python 3",
   "language": "python",
   "name": "python3"
  },
  "language_info": {
   "codemirror_mode": {
    "name": "ipython",
    "version": 3
   },
   "file_extension": ".py",
   "mimetype": "text/x-python",
   "name": "python",
   "nbconvert_exporter": "python",
   "pygments_lexer": "ipython3",
   "version": "3.12.1"
  }
 },
 "nbformat": 4,
 "nbformat_minor": 2
}
